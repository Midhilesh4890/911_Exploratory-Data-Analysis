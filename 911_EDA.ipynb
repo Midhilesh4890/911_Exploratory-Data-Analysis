{
  "nbformat": 4,
  "nbformat_minor": 0,
  "metadata": {
    "colab": {
      "name": "911_EDA",
      "provenance": [],
      "collapsed_sections": [],
      "mount_file_id": "1I0t3qo47T9c37vXuXLzuUHkhWOFfL8H_",
      "authorship_tag": "ABX9TyN1OmmwFNUS9d/Gil/tw6in",
      "include_colab_link": true
    },
    "kernelspec": {
      "name": "python3",
      "display_name": "Python 3"
    },
    "language_info": {
      "name": "python"
    }
  },
  "cells": [
    {
      "cell_type": "markdown",
      "metadata": {
        "id": "view-in-github",
        "colab_type": "text"
      },
      "source": [
        "<a href=\"https://colab.research.google.com/github/Midhilesh4890/911_Exploratory-Data-Analysis/blob/main/911_EDA.ipynb\" target=\"_parent\"><img src=\"https://colab.research.google.com/assets/colab-badge.svg\" alt=\"Open In Colab\"/></a>"
      ]
    },
    {
      "cell_type": "code",
      "metadata": {
        "id": "p7Iqsr-Bq8kU"
      },
      "source": [
        "import numpy as np\n",
        "import pandas as pd\n",
        "\n",
        "import matplotlib\n",
        "import matplotlib.pyplot as plt\n",
        "import seaborn as sns\n",
        "%matplotlib inline\n",
        "sns.set_style('whitegrid')\n",
        "sns.set_context('notebook')\n",
        "matplotlib.rcParams['figure.figsize'] = (12,8) "
      ],
      "execution_count": 1,
      "outputs": []
    },
    {
      "cell_type": "code",
      "metadata": {
        "id": "bNItI_Qarv64",
        "colab": {
          "base_uri": "https://localhost:8080/",
          "height": 279
        },
        "outputId": "0568de7e-9040-4f94-e747-7ccedf4d1738"
      },
      "source": [
        "df = pd.read_csv('/content/drive/MyDrive/911_EDA/911.csv')\n",
        "df.head()"
      ],
      "execution_count": 2,
      "outputs": [
        {
          "output_type": "execute_result",
          "data": {
            "text/html": [
              "<div>\n",
              "<style scoped>\n",
              "    .dataframe tbody tr th:only-of-type {\n",
              "        vertical-align: middle;\n",
              "    }\n",
              "\n",
              "    .dataframe tbody tr th {\n",
              "        vertical-align: top;\n",
              "    }\n",
              "\n",
              "    .dataframe thead th {\n",
              "        text-align: right;\n",
              "    }\n",
              "</style>\n",
              "<table border=\"1\" class=\"dataframe\">\n",
              "  <thead>\n",
              "    <tr style=\"text-align: right;\">\n",
              "      <th></th>\n",
              "      <th>lat</th>\n",
              "      <th>lng</th>\n",
              "      <th>desc</th>\n",
              "      <th>zip</th>\n",
              "      <th>title</th>\n",
              "      <th>timeStamp</th>\n",
              "      <th>twp</th>\n",
              "      <th>addr</th>\n",
              "      <th>e</th>\n",
              "    </tr>\n",
              "  </thead>\n",
              "  <tbody>\n",
              "    <tr>\n",
              "      <th>0</th>\n",
              "      <td>40.297876</td>\n",
              "      <td>-75.581294</td>\n",
              "      <td>REINDEER CT &amp; DEAD END;  NEW HANOVER; Station ...</td>\n",
              "      <td>19525.0</td>\n",
              "      <td>EMS: BACK PAINS/INJURY</td>\n",
              "      <td>2015-12-10 17:10:52</td>\n",
              "      <td>NEW HANOVER</td>\n",
              "      <td>REINDEER CT &amp; DEAD END</td>\n",
              "      <td>1</td>\n",
              "    </tr>\n",
              "    <tr>\n",
              "      <th>1</th>\n",
              "      <td>40.258061</td>\n",
              "      <td>-75.264680</td>\n",
              "      <td>BRIAR PATH &amp; WHITEMARSH LN;  HATFIELD TOWNSHIP...</td>\n",
              "      <td>19446.0</td>\n",
              "      <td>EMS: DIABETIC EMERGENCY</td>\n",
              "      <td>2015-12-10 17:29:21</td>\n",
              "      <td>HATFIELD TOWNSHIP</td>\n",
              "      <td>BRIAR PATH &amp; WHITEMARSH LN</td>\n",
              "      <td>1</td>\n",
              "    </tr>\n",
              "    <tr>\n",
              "      <th>2</th>\n",
              "      <td>40.121182</td>\n",
              "      <td>-75.351975</td>\n",
              "      <td>HAWS AVE; NORRISTOWN; 2015-12-10 @ 14:39:21-St...</td>\n",
              "      <td>19401.0</td>\n",
              "      <td>Fire: GAS-ODOR/LEAK</td>\n",
              "      <td>2015-12-10 14:39:21</td>\n",
              "      <td>NORRISTOWN</td>\n",
              "      <td>HAWS AVE</td>\n",
              "      <td>1</td>\n",
              "    </tr>\n",
              "    <tr>\n",
              "      <th>3</th>\n",
              "      <td>40.116153</td>\n",
              "      <td>-75.343513</td>\n",
              "      <td>AIRY ST &amp; SWEDE ST;  NORRISTOWN; Station 308A;...</td>\n",
              "      <td>19401.0</td>\n",
              "      <td>EMS: CARDIAC EMERGENCY</td>\n",
              "      <td>2015-12-10 16:47:36</td>\n",
              "      <td>NORRISTOWN</td>\n",
              "      <td>AIRY ST &amp; SWEDE ST</td>\n",
              "      <td>1</td>\n",
              "    </tr>\n",
              "    <tr>\n",
              "      <th>4</th>\n",
              "      <td>40.251492</td>\n",
              "      <td>-75.603350</td>\n",
              "      <td>CHERRYWOOD CT &amp; DEAD END;  LOWER POTTSGROVE; S...</td>\n",
              "      <td>NaN</td>\n",
              "      <td>EMS: DIZZINESS</td>\n",
              "      <td>2015-12-10 16:56:52</td>\n",
              "      <td>LOWER POTTSGROVE</td>\n",
              "      <td>CHERRYWOOD CT &amp; DEAD END</td>\n",
              "      <td>1</td>\n",
              "    </tr>\n",
              "  </tbody>\n",
              "</table>\n",
              "</div>"
            ],
            "text/plain": [
              "         lat        lng  ...                        addr  e\n",
              "0  40.297876 -75.581294  ...      REINDEER CT & DEAD END  1\n",
              "1  40.258061 -75.264680  ...  BRIAR PATH & WHITEMARSH LN  1\n",
              "2  40.121182 -75.351975  ...                    HAWS AVE  1\n",
              "3  40.116153 -75.343513  ...          AIRY ST & SWEDE ST  1\n",
              "4  40.251492 -75.603350  ...    CHERRYWOOD CT & DEAD END  1\n",
              "\n",
              "[5 rows x 9 columns]"
            ]
          },
          "metadata": {
            "tags": []
          },
          "execution_count": 2
        }
      ]
    },
    {
      "cell_type": "code",
      "metadata": {
        "id": "vR5oHt1Ir9Fb",
        "colab": {
          "base_uri": "https://localhost:8080/"
        },
        "outputId": "8e73fd53-6b5e-4939-b726-689143df8d1c"
      },
      "source": [
        "df.info()"
      ],
      "execution_count": 3,
      "outputs": [
        {
          "output_type": "stream",
          "text": [
            "<class 'pandas.core.frame.DataFrame'>\n",
            "RangeIndex: 663522 entries, 0 to 663521\n",
            "Data columns (total 9 columns):\n",
            " #   Column     Non-Null Count   Dtype  \n",
            "---  ------     --------------   -----  \n",
            " 0   lat        663522 non-null  float64\n",
            " 1   lng        663522 non-null  float64\n",
            " 2   desc       663522 non-null  object \n",
            " 3   zip        583323 non-null  float64\n",
            " 4   title      663522 non-null  object \n",
            " 5   timeStamp  663522 non-null  object \n",
            " 6   twp        663229 non-null  object \n",
            " 7   addr       663522 non-null  object \n",
            " 8   e          663522 non-null  int64  \n",
            "dtypes: float64(3), int64(1), object(5)\n",
            "memory usage: 45.6+ MB\n"
          ],
          "name": "stdout"
        }
      ]
    },
    {
      "cell_type": "code",
      "metadata": {
        "id": "ionE0mW28UC2",
        "colab": {
          "base_uri": "https://localhost:8080/"
        },
        "outputId": "9639852a-e71e-47c9-f1de-76d9ba572419"
      },
      "source": [
        "# Get numeric columns\n",
        "num_cols = df.select_dtypes(include=[np.number]).columns.values\n",
        "print('Numeric cols :',num_cols)"
      ],
      "execution_count": 4,
      "outputs": [
        {
          "output_type": "stream",
          "text": [
            "Numeric cols : ['lat' 'lng' 'zip' 'e']\n"
          ],
          "name": "stdout"
        }
      ]
    },
    {
      "cell_type": "code",
      "metadata": {
        "id": "mrwybUQ8SgET",
        "colab": {
          "base_uri": "https://localhost:8080/"
        },
        "outputId": "c695efa0-1edc-41cd-c8ee-1acd0d3994a6"
      },
      "source": [
        "# Get Non-numeric/categorical columns\n",
        "cat_cols = df.select_dtypes(exclude=[np.number]).columns.values\n",
        "print('Categorical cols :',cat_cols)"
      ],
      "execution_count": 5,
      "outputs": [
        {
          "output_type": "stream",
          "text": [
            "Categorical cols : ['desc' 'title' 'timeStamp' 'twp' 'addr']\n"
          ],
          "name": "stdout"
        }
      ]
    },
    {
      "cell_type": "code",
      "metadata": {
        "id": "eMEA2QbZmIhe",
        "colab": {
          "base_uri": "https://localhost:8080/"
        },
        "outputId": "ee1d6ffc-a1b1-4b63-be7b-a9497b7efc6a"
      },
      "source": [
        "df['zip'].value_counts()\n",
        "# There are 204 unique Zip codes"
      ],
      "execution_count": 6,
      "outputs": [
        {
          "output_type": "execute_result",
          "data": {
            "text/plain": [
              "19401.0    45606\n",
              "19464.0    43910\n",
              "19403.0    34888\n",
              "19446.0    32270\n",
              "19406.0    22464\n",
              "           ...  \n",
              "19457.0        1\n",
              "18102.0        1\n",
              "19543.0        1\n",
              "19545.0        1\n",
              "8077.0         1\n",
              "Name: zip, Length: 204, dtype: int64"
            ]
          },
          "metadata": {
            "tags": []
          },
          "execution_count": 6
        }
      ]
    },
    {
      "cell_type": "code",
      "metadata": {
        "id": "xVqapKBrrGTc",
        "colab": {
          "base_uri": "https://localhost:8080/"
        },
        "outputId": "b18047c0-7a5a-4f5e-9617-049c5d369ac1"
      },
      "source": [
        "# 911 calls received from Five most and least townships.\n",
        "df['twp'].value_counts()\n",
        "# There are 68 unique townships in our dataset."
      ],
      "execution_count": 7,
      "outputs": [
        {
          "output_type": "execute_result",
          "data": {
            "text/plain": [
              "LOWER MERION       55490\n",
              "ABINGTON           39947\n",
              "NORRISTOWN         37633\n",
              "UPPER MERION       36010\n",
              "CHELTENHAM         30574\n",
              "                   ...  \n",
              "EAST GREENVILLE     1316\n",
              "BRYN ATHYN          1254\n",
              "GREEN LANE           385\n",
              "PHILA COUNTY         267\n",
              "LEHIGH COUNTY        190\n",
              "Name: twp, Length: 68, dtype: int64"
            ]
          },
          "metadata": {
            "tags": []
          },
          "execution_count": 7
        }
      ]
    },
    {
      "cell_type": "code",
      "metadata": {
        "id": "3Q30yd4lmfns",
        "colab": {
          "base_uri": "https://localhost:8080/",
          "height": 873
        },
        "outputId": "4ff8bb7b-85c4-4267-bffe-1729e02ef1f8"
      },
      "source": [
        "# Countplot of all the calls received from different townships\n",
        "plt.figure(figsize=(12,12))\n",
        "sns.countplot(y=df['twp'], order=df['twp'].value_counts().loc[:].index)\n",
        "plt.tight_layout()\n",
        "\n",
        "# From graph, it is observed that 9 townships made more than 20000 calls each between 2015-2020.\n",
        "# Also, more than half of the townships have not crossed 10000 calls each during this juncture"
      ],
      "execution_count": 8,
      "outputs": [
        {
          "output_type": "display_data",
          "data": {
            "image/png": "[encoded data removed]",
            "text/plain": [
              "<Figure size 864x864 with 1 Axes>"
            ]
          },
          "metadata": {
            "tags": [],
            "needs_background": "light"
          }
        }
      ]
    },
    {
      "cell_type": "code",
      "metadata": {
        "id": "lJTDxSkhmr94",
        "colab": {
          "base_uri": "https://localhost:8080/"
        },
        "outputId": "12f4c688-47a6-4c20-fae8-6ca1f7745b01"
      },
      "source": [
        "# Title of the 911 calls received.\n",
        "df['title'].value_counts().head(20)"
      ],
      "execution_count": 9,
      "outputs": [
        {
          "output_type": "execute_result",
          "data": {
            "text/plain": [
              "Traffic: VEHICLE ACCIDENT -       148372\n",
              "Traffic: DISABLED VEHICLE -        47909\n",
              "Fire: FIRE ALARM                   38336\n",
              "EMS: FALL VICTIM                   34676\n",
              "EMS: RESPIRATORY EMERGENCY         34248\n",
              "EMS: CARDIAC EMERGENCY             32332\n",
              "EMS: VEHICLE ACCIDENT              25513\n",
              "Traffic: ROAD OBSTRUCTION -        23235\n",
              "EMS: SUBJECT IN PAIN               19646\n",
              "EMS: HEAD INJURY                   18301\n",
              "EMS: GENERAL WEAKNESS              11867\n",
              "Fire: VEHICLE ACCIDENT             10864\n",
              "EMS: SEIZURES                      10823\n",
              "EMS: SYNCOPAL EPISODE              10806\n",
              "EMS: UNKNOWN MEDICAL EMERGENCY     10698\n",
              "EMS: MEDICAL ALERT ALARM           10394\n",
              "EMS: ALTERED MENTAL STATUS         10088\n",
              "Fire: FIRE INVESTIGATION            9444\n",
              "EMS: ABDOMINAL PAINS                9005\n",
              "EMS: UNCONSCIOUS SUBJECT            8791\n",
              "Name: title, dtype: int64"
            ]
          },
          "metadata": {
            "tags": []
          },
          "execution_count": 9
        }
      ]
    },
    {
      "cell_type": "code",
      "metadata": {
        "id": "y1MrnA2Lm_7k"
      },
      "source": [
        "# Title column have two parts divided by ':'\n",
        "# Splitting Title into two columns, namely 'category' and 'purpose' of call.\n",
        "df['category'] = df['title'].apply(lambda x:x.split(':')[0])\n",
        "df['purpose'] = df['title'].apply(lambda x:x.split(':')[1])\n",
        "df.drop('title', axis=1, inplace=True)"
      ],
      "execution_count": 10,
      "outputs": []
    },
    {
      "cell_type": "code",
      "metadata": {
        "id": "YV3dg6O4ohYF",
        "colab": {
          "base_uri": "https://localhost:8080/"
        },
        "outputId": "701d3ae4-22e5-4db3-9203-627467c0bf9f"
      },
      "source": [
        "df['category'].value_counts()\n",
        "# There are three main categories of calls in the dataset, \n",
        "# which are Emergency Medical Services(EMS), Traffic and Fire"
      ],
      "execution_count": 11,
      "outputs": [
        {
          "output_type": "execute_result",
          "data": {
            "text/plain": [
              "EMS        332692\n",
              "Traffic    230208\n",
              "Fire       100622\n",
              "Name: category, dtype: int64"
            ]
          },
          "metadata": {
            "tags": []
          },
          "execution_count": 11
        }
      ]
    },
    {
      "cell_type": "code",
      "metadata": {
        "id": "OGjheuKLpR0G",
        "colab": {
          "base_uri": "https://localhost:8080/",
          "height": 355
        },
        "outputId": "507333f9-1d44-467f-8ae0-a7a013dfd0d9"
      },
      "source": [
        "sns.countplot(df['category'])"
      ],
      "execution_count": 12,
      "outputs": [
        {
          "output_type": "stream",
          "text": [
            "/usr/local/lib/python3.7/dist-packages/seaborn/_decorators.py:43: FutureWarning: Pass the following variable as a keyword arg: x. From version 0.12, the only valid positional argument will be `data`, and passing other arguments without an explicit keyword will result in an error or misinterpretation.\n",
            "  FutureWarning\n"
          ],
          "name": "stderr"
        },
        {
          "output_type": "execute_result",
          "data": {
            "text/plain": [
              "<matplotlib.axes._subplots.AxesSubplot at 0x7f63bd57f7d0>"
            ]
          },
          "metadata": {
            "tags": []
          },
          "execution_count": 12
        },
        {
          "output_type": "display_data",
          "data": {
            "image/png": "[encoded data removed]",
            "text/plain": [
              "<Figure size 432x288 with 1 Axes>"
            ]
          },
          "metadata": {
            "tags": [],
            "needs_background": "light"
          }
        }
      ]
    },
    {
      "cell_type": "code",
      "metadata": {
        "id": "2ubc_aBpomuM",
        "colab": {
          "base_uri": "https://localhost:8080/",
          "height": 336
        },
        "outputId": "10039964-37be-4ab0-9ad3-d35b0bf9f804"
      },
      "source": [
        "display(df['purpose'].value_counts())\n",
        "# There are 95 different Purposes/sub-categories of 911 calls as per the data.\n",
        "\n",
        "print('\\n ----In percentage---- \\n')\n",
        "100*(round(df['purpose'].value_counts()/len(df['purpose']),2)).head(3)"
      ],
      "execution_count": 13,
      "outputs": [
        {
          "output_type": "display_data",
          "data": {
            "text/plain": [
              " VEHICLE ACCIDENT -           148372\n",
              " DISABLED VEHICLE -            47909\n",
              " FIRE ALARM                    38452\n",
              " VEHICLE ACCIDENT              36377\n",
              " FALL VICTIM                   34683\n",
              "                               ...  \n",
              " HAZARDOUS ROAD CONDITIONS         2\n",
              " PRISONER IN CUSTODY               1\n",
              " ANIMAL COMPLAINT                  1\n",
              " HIT + RUN                         1\n",
              " FOOT PATROL                       1\n",
              "Name: purpose, Length: 95, dtype: int64"
            ]
          },
          "metadata": {
            "tags": []
          }
        },
        {
          "output_type": "stream",
          "text": [
            "\n",
            " ----In percentage---- \n",
            "\n"
          ],
          "name": "stdout"
        },
        {
          "output_type": "execute_result",
          "data": {
            "text/plain": [
              " VEHICLE ACCIDENT -    22.0\n",
              " DISABLED VEHICLE -     7.0\n",
              " FIRE ALARM             6.0\n",
              "Name: purpose, dtype: float64"
            ]
          },
          "metadata": {
            "tags": []
          },
          "execution_count": 13
        }
      ]
    },
    {
      "cell_type": "code",
      "metadata": {
        "id": "zS4nF52no5iU",
        "colab": {
          "base_uri": "https://localhost:8080/",
          "height": 302
        },
        "outputId": "65ae2bdc-74fb-4b05-87a0-238da22f90f0"
      },
      "source": [
        "# There are 95 unique purpose, most purposes are less frequent. \n",
        "# Plotting 30 most frequent purpose vs count\n",
        "sns.countplot(y=df['purpose'], order=df['purpose'].value_counts().iloc[:30].index)\n",
        "\n",
        "\n",
        "# Based on Data, 'VEHICLE ACCIDENT' is the most common reason, resulting in whopping 22% of the of 911 calls (1.5 million calls) during 5 years span.\n",
        "# Second one being 'DISABLED VEHICLE', resulting in 7% of calls (47909 calls).\n",
        "# Finally,  ANIMAL COMPLAINT, HIT + RUN, PRISONER IN CUSTODY, and FOOT PATROL being the least reasons.\n"
      ],
      "execution_count": 14,
      "outputs": [
        {
          "output_type": "execute_result",
          "data": {
            "text/plain": [
              "<matplotlib.axes._subplots.AxesSubplot at 0x7f63c5ea2590>"
            ]
          },
          "metadata": {
            "tags": []
          },
          "execution_count": 14
        },
        {
          "output_type": "display_data",
          "data": {
            "image/png": "[encoded data removed]",
            "text/plain": [
              "<Figure size 432x288 with 1 Axes>"
            ]
          },
          "metadata": {
            "tags": [],
            "needs_background": "light"
          }
        }
      ]
    },
    {
      "cell_type": "code",
      "metadata": {
        "id": "rscK3Kk-1FC-",
        "colab": {
          "base_uri": "https://localhost:8080/"
        },
        "outputId": "a7c8fa6f-c454-4e0f-de1d-eacb905c8ddb"
      },
      "source": [
        "EMS = df[df['category']=='EMS']['purpose']\n",
        "EMS.nunique()\n",
        "# There are 81 unique calls under \"EMS\" category"
      ],
      "execution_count": 15,
      "outputs": [
        {
          "output_type": "execute_result",
          "data": {
            "text/plain": [
              "81"
            ]
          },
          "metadata": {
            "tags": []
          },
          "execution_count": 15
        }
      ]
    },
    {
      "cell_type": "code",
      "metadata": {
        "id": "wLFmOXHy4EZ9",
        "colab": {
          "base_uri": "https://localhost:8080/",
          "height": 318
        },
        "outputId": "b455b287-de4b-480c-bf31-8d27ea787227"
      },
      "source": [
        "# Plotting 30 out of 81 most frequent call purposes under \"EMS\" category vs count\n",
        "plt.title(\"EMS\")\n",
        "sns.countplot(y=EMS, order=EMS.value_counts().iloc[:30].index)\n",
        "\n",
        "# From graph, Most common purpose for 911 calls under EMS category are FALL VICTIM, RESPIRATORY and CARDIAC EMERGENCY. \n",
        "# Each constituting over 10% off overall calls under EMS respectively."
      ],
      "execution_count": 16,
      "outputs": [
        {
          "output_type": "execute_result",
          "data": {
            "text/plain": [
              "<matplotlib.axes._subplots.AxesSubplot at 0x7f63c5e536d0>"
            ]
          },
          "metadata": {
            "tags": []
          },
          "execution_count": 16
        },
        {
          "output_type": "display_data",
          "data": {
            "image/png": "[encoded data removed]",
            "text/plain": [
              "<Figure size 432x288 with 1 Axes>"
            ]
          },
          "metadata": {
            "tags": [],
            "needs_background": "light"
          }
        }
      ]
    },
    {
      "cell_type": "code",
      "metadata": {
        "id": "mmorb9BK4NI6",
        "colab": {
          "base_uri": "https://localhost:8080/"
        },
        "outputId": "1c97a41b-e161-4dbc-f287-dbbf116321bf"
      },
      "source": [
        "Fire = df[df['category']=='Fire']['purpose']\n",
        "Fire.nunique()\n",
        "\n",
        "# There are 60 unique calls under \"Fire\" category"
      ],
      "execution_count": 17,
      "outputs": [
        {
          "output_type": "execute_result",
          "data": {
            "text/plain": [
              "60"
            ]
          },
          "metadata": {
            "tags": []
          },
          "execution_count": 17
        }
      ]
    },
    {
      "cell_type": "code",
      "metadata": {
        "id": "dPu-Gdum3EXj",
        "colab": {
          "base_uri": "https://localhost:8080/",
          "height": 318
        },
        "outputId": "bbb5bcc6-863e-4ccb-9d85-3ee7f04c8c80"
      },
      "source": [
        "# Plotting 25 most frequent call purposes under \"Fire\" category vs count\n",
        "plt.title(\"Fire\")\n",
        "sns.countplot(y=Fire, order=Fire.value_counts().iloc[:25].index)\n",
        "\n",
        "\n",
        "# From graph, Most common purpose for 911 calls under \"Fire\" category is FIRE ALARM, which accounts for 38% of all calls under Fire category\n",
        "# Further, VEHICLE ACCIDENT and FIRE INVESTIGATION adds up to around 10% each to total calls."
      ],
      "execution_count": 18,
      "outputs": [
        {
          "output_type": "execute_result",
          "data": {
            "text/plain": [
              "<matplotlib.axes._subplots.AxesSubplot at 0x7f63b4c19990>"
            ]
          },
          "metadata": {
            "tags": []
          },
          "execution_count": 18
        },
        {
          "output_type": "display_data",
          "data": {
            "image/png": "[encoded data removed]",
            "text/plain": [
              "<Figure size 432x288 with 1 Axes>"
            ]
          },
          "metadata": {
            "tags": [],
            "needs_background": "light"
          }
        }
      ]
    },
    {
      "cell_type": "code",
      "metadata": {
        "id": "1WUXrwmz4ftX",
        "colab": {
          "base_uri": "https://localhost:8080/"
        },
        "outputId": "58ab0776-3cea-4280-da2a-d5fcbf0107d1"
      },
      "source": [
        "Traffic = df[df['category']=='Traffic']['purpose']\n",
        "Traffic.value_counts()\n",
        "\n",
        "# 7 unique subcategories/purposes under \"Traffic\" category"
      ],
      "execution_count": 19,
      "outputs": [
        {
          "output_type": "execute_result",
          "data": {
            "text/plain": [
              " VEHICLE ACCIDENT -             148372\n",
              " DISABLED VEHICLE -              47909\n",
              " ROAD OBSTRUCTION -              23235\n",
              " HAZARDOUS ROAD CONDITIONS -      6833\n",
              " VEHICLE FIRE -                   3366\n",
              " VEHICLE LEAKING FUEL -            292\n",
              " DEBRIS/FLUIDS ON HIGHWAY -        201\n",
              "Name: purpose, dtype: int64"
            ]
          },
          "metadata": {
            "tags": []
          },
          "execution_count": 19
        }
      ]
    },
    {
      "cell_type": "code",
      "metadata": {
        "id": "sAZURlGw3rJ7",
        "colab": {
          "base_uri": "https://localhost:8080/",
          "height": 318
        },
        "outputId": "dc757224-2394-420f-c82c-0c1afd72d675"
      },
      "source": [
        "plt.title(\"Traffic\")\n",
        "sns.countplot(y=Traffic, order=Traffic.value_counts().index)\n",
        "\n",
        "# From graph, again \"VEHICLE ACCIDENT\" is the top purpose of 911 calls accounts for 64% of all calls under Traffic category. \n",
        "# Next \"DISABLED VEHICLE\" and \"ROAD OBSTRUCTION\" together combines to 31%.\n",
        "# Intrestingly, these three reasons alone constitutes 95% of 911 calls related to Traffic"
      ],
      "execution_count": 20,
      "outputs": [
        {
          "output_type": "execute_result",
          "data": {
            "text/plain": [
              "<matplotlib.axes._subplots.AxesSubplot at 0x7f63cfbbd0d0>"
            ]
          },
          "metadata": {
            "tags": []
          },
          "execution_count": 20
        },
        {
          "output_type": "display_data",
          "data": {
            "image/png": "[encoded data removed]",
            "text/plain": [
              "<Figure size 432x288 with 1 Axes>"
            ]
          },
          "metadata": {
            "tags": [],
            "needs_background": "light"
          }
        }
      ]
    },
    {
      "cell_type": "code",
      "metadata": {
        "id": "CxT_fXP34tKZ",
        "colab": {
          "base_uri": "https://localhost:8080/"
        },
        "outputId": "1baa2e02-7918-4cf4-d6ca-0dd6b9ee7c04"
      },
      "source": [
        "# TimeStamp is of string type\n",
        "print(df['timeStamp'].dtype)\n",
        "df['timeStamp']\n",
        "\n",
        "# Note:\n",
        "# The observation start from Dec-2015 to July-2020 here, hence less datapoints to make inferences on these years. "
      ],
      "execution_count": 21,
      "outputs": [
        {
          "output_type": "stream",
          "text": [
            "object\n"
          ],
          "name": "stdout"
        },
        {
          "output_type": "execute_result",
          "data": {
            "text/plain": [
              "0         2015-12-10 17:10:52\n",
              "1         2015-12-10 17:29:21\n",
              "2         2015-12-10 14:39:21\n",
              "3         2015-12-10 16:47:36\n",
              "4         2015-12-10 16:56:52\n",
              "                 ...         \n",
              "663517    2020-07-29 15:46:51\n",
              "663518    2020-07-29 15:52:19\n",
              "663519    2020-07-29 15:52:52\n",
              "663520    2020-07-29 15:54:08\n",
              "663521    2020-07-29 15:52:46\n",
              "Name: timeStamp, Length: 663522, dtype: object"
            ]
          },
          "metadata": {
            "tags": []
          },
          "execution_count": 21
        }
      ]
    },
    {
      "cell_type": "code",
      "metadata": {
        "id": "IktzPl8b42Ow",
        "colab": {
          "base_uri": "https://localhost:8080/"
        },
        "outputId": "41dec199-889e-4859-b76a-d0329552d5d5"
      },
      "source": [
        "# Converting timeStamp in to datetime object\n",
        "df['timeStamp'] = pd.to_datetime(df['timeStamp'])\n",
        "print(df['timeStamp'].dtype)"
      ],
      "execution_count": 22,
      "outputs": [
        {
          "output_type": "stream",
          "text": [
            "datetime64[ns]\n"
          ],
          "name": "stdout"
        }
      ]
    },
    {
      "cell_type": "code",
      "metadata": {
        "id": "HF7yJD5P6JID"
      },
      "source": [
        "# Converting Datetime column in to new columns\n",
        "df['date'] = df['timeStamp'].apply(lambda x: x.date())\n",
        "df['year'] = df['timeStamp'].apply(lambda x: x.year)\n",
        "df['month'] = df['timeStamp'].apply(lambda x: x.month)\n",
        "df['day'] = df['timeStamp'].apply(lambda x: x.dayofweek)\n",
        "df['hour'] = df['timeStamp'].apply(lambda x: x.hour)"
      ],
      "execution_count": 23,
      "outputs": []
    },
    {
      "cell_type": "code",
      "metadata": {
        "id": "AMDBY61U7vto",
        "colab": {
          "base_uri": "https://localhost:8080/",
          "height": 402
        },
        "outputId": "0b8bca0d-a8f9-447d-cc9c-c97821a00b32"
      },
      "source": [
        "# New columns\n",
        "df[['date', 'year', 'month', 'day', 'hour']]"
      ],
      "execution_count": 24,
      "outputs": [
        {
          "output_type": "execute_result",
          "data": {
            "text/html": [
              "<div>\n",
              "<style scoped>\n",
              "    .dataframe tbody tr th:only-of-type {\n",
              "        vertical-align: middle;\n",
              "    }\n",
              "\n",
              "    .dataframe tbody tr th {\n",
              "        vertical-align: top;\n",
              "    }\n",
              "\n",
              "    .dataframe thead th {\n",
              "        text-align: right;\n",
              "    }\n",
              "</style>\n",
              "<table border=\"1\" class=\"dataframe\">\n",
              "  <thead>\n",
              "    <tr style=\"text-align: right;\">\n",
              "      <th></th>\n",
              "      <th>date</th>\n",
              "      <th>year</th>\n",
              "      <th>month</th>\n",
              "      <th>day</th>\n",
              "      <th>hour</th>\n",
              "    </tr>\n",
              "  </thead>\n",
              "  <tbody>\n",
              "    <tr>\n",
              "      <th>0</th>\n",
              "      <td>2015-12-10</td>\n",
              "      <td>2015</td>\n",
              "      <td>12</td>\n",
              "      <td>3</td>\n",
              "      <td>17</td>\n",
              "    </tr>\n",
              "    <tr>\n",
              "      <th>1</th>\n",
              "      <td>2015-12-10</td>\n",
              "      <td>2015</td>\n",
              "      <td>12</td>\n",
              "      <td>3</td>\n",
              "      <td>17</td>\n",
              "    </tr>\n",
              "    <tr>\n",
              "      <th>2</th>\n",
              "      <td>2015-12-10</td>\n",
              "      <td>2015</td>\n",
              "      <td>12</td>\n",
              "      <td>3</td>\n",
              "      <td>14</td>\n",
              "    </tr>\n",
              "    <tr>\n",
              "      <th>3</th>\n",
              "      <td>2015-12-10</td>\n",
              "      <td>2015</td>\n",
              "      <td>12</td>\n",
              "      <td>3</td>\n",
              "      <td>16</td>\n",
              "    </tr>\n",
              "    <tr>\n",
              "      <th>4</th>\n",
              "      <td>2015-12-10</td>\n",
              "      <td>2015</td>\n",
              "      <td>12</td>\n",
              "      <td>3</td>\n",
              "      <td>16</td>\n",
              "    </tr>\n",
              "    <tr>\n",
              "      <th>...</th>\n",
              "      <td>...</td>\n",
              "      <td>...</td>\n",
              "      <td>...</td>\n",
              "      <td>...</td>\n",
              "      <td>...</td>\n",
              "    </tr>\n",
              "    <tr>\n",
              "      <th>663517</th>\n",
              "      <td>2020-07-29</td>\n",
              "      <td>2020</td>\n",
              "      <td>7</td>\n",
              "      <td>2</td>\n",
              "      <td>15</td>\n",
              "    </tr>\n",
              "    <tr>\n",
              "      <th>663518</th>\n",
              "      <td>2020-07-29</td>\n",
              "      <td>2020</td>\n",
              "      <td>7</td>\n",
              "      <td>2</td>\n",
              "      <td>15</td>\n",
              "    </tr>\n",
              "    <tr>\n",
              "      <th>663519</th>\n",
              "      <td>2020-07-29</td>\n",
              "      <td>2020</td>\n",
              "      <td>7</td>\n",
              "      <td>2</td>\n",
              "      <td>15</td>\n",
              "    </tr>\n",
              "    <tr>\n",
              "      <th>663520</th>\n",
              "      <td>2020-07-29</td>\n",
              "      <td>2020</td>\n",
              "      <td>7</td>\n",
              "      <td>2</td>\n",
              "      <td>15</td>\n",
              "    </tr>\n",
              "    <tr>\n",
              "      <th>663521</th>\n",
              "      <td>2020-07-29</td>\n",
              "      <td>2020</td>\n",
              "      <td>7</td>\n",
              "      <td>2</td>\n",
              "      <td>15</td>\n",
              "    </tr>\n",
              "  </tbody>\n",
              "</table>\n",
              "<p>663522 rows × 5 columns</p>\n",
              "</div>"
            ],
            "text/plain": [
              "              date  year  month  day  hour\n",
              "0       2015-12-10  2015     12    3    17\n",
              "1       2015-12-10  2015     12    3    17\n",
              "2       2015-12-10  2015     12    3    14\n",
              "3       2015-12-10  2015     12    3    16\n",
              "4       2015-12-10  2015     12    3    16\n",
              "...            ...   ...    ...  ...   ...\n",
              "663517  2020-07-29  2020      7    2    15\n",
              "663518  2020-07-29  2020      7    2    15\n",
              "663519  2020-07-29  2020      7    2    15\n",
              "663520  2020-07-29  2020      7    2    15\n",
              "663521  2020-07-29  2020      7    2    15\n",
              "\n",
              "[663522 rows x 5 columns]"
            ]
          },
          "metadata": {
            "tags": []
          },
          "execution_count": 24
        }
      ]
    },
    {
      "cell_type": "code",
      "metadata": {
        "id": "r27h6C2OAcAY",
        "colab": {
          "base_uri": "https://localhost:8080/",
          "height": 302
        },
        "outputId": "7f8a9b8c-a467-4daf-9dfc-a12ffca37295"
      },
      "source": [
        "# Line graph of 911 call count of all categories for each year from 2015 to 2020\n",
        "sns.lineplot(data=df.groupby('year').count()['category'])"
      ],
      "execution_count": 25,
      "outputs": [
        {
          "output_type": "execute_result",
          "data": {
            "text/plain": [
              "<matplotlib.axes._subplots.AxesSubplot at 0x7f63c5f97590>"
            ]
          },
          "metadata": {
            "tags": []
          },
          "execution_count": 25
        },
        {
          "output_type": "display_data",
          "data": {
            "image/png": "[encoded data removed]",
            "text/plain": [
              "<Figure size 432x288 with 1 Axes>"
            ]
          },
          "metadata": {
            "tags": [],
            "needs_background": "light"
          }
        }
      ]
    },
    {
      "cell_type": "code",
      "metadata": {
        "id": "42CbnY6wOVBe",
        "colab": {
          "base_uri": "https://localhost:8080/",
          "height": 355
        },
        "outputId": "58ddd2d8-d898-4796-8c5a-6a6d38df8e14"
      },
      "source": [
        "# Bar graph of 911 call count per category for each year from 2015 to 2020\n",
        "sns.countplot(df['year'], hue=df['category'])"
      ],
      "execution_count": 26,
      "outputs": [
        {
          "output_type": "stream",
          "text": [
            "/usr/local/lib/python3.7/dist-packages/seaborn/_decorators.py:43: FutureWarning: Pass the following variable as a keyword arg: x. From version 0.12, the only valid positional argument will be `data`, and passing other arguments without an explicit keyword will result in an error or misinterpretation.\n",
            "  FutureWarning\n"
          ],
          "name": "stderr"
        },
        {
          "output_type": "execute_result",
          "data": {
            "text/plain": [
              "<matplotlib.axes._subplots.AxesSubplot at 0x7f63b4a9f690>"
            ]
          },
          "metadata": {
            "tags": []
          },
          "execution_count": 26
        },
        {
          "output_type": "display_data",
          "data": {
            "image/png": "[encoded data removed]",
            "text/plain": [
              "<Figure size 432x288 with 1 Axes>"
            ]
          },
          "metadata": {
            "tags": [],
            "needs_background": "light"
          }
        }
      ]
    },
    {
      "cell_type": "code",
      "metadata": {
        "id": "DCvZPgNa-fFg",
        "colab": {
          "base_uri": "https://localhost:8080/"
        },
        "outputId": "1b2e87f5-9b1e-44f3-bce4-5d0e9dfb5f58"
      },
      "source": [
        "df['month'].unique()"
      ],
      "execution_count": 27,
      "outputs": [
        {
          "output_type": "execute_result",
          "data": {
            "text/plain": [
              "array([12,  1,  2,  3,  4,  5,  6,  7,  8,  9, 10, 11])"
            ]
          },
          "metadata": {
            "tags": []
          },
          "execution_count": 27
        }
      ]
    },
    {
      "cell_type": "code",
      "metadata": {
        "id": "MwpO6IDm-kda",
        "colab": {
          "base_uri": "https://localhost:8080/"
        },
        "outputId": "fbaf7c6c-4536-40cd-cf4b-e1da99869938"
      },
      "source": [
        "# Mapping Month names to numbers\n",
        "df['month'] = df['month'].map({1:'Jan',2:'Feb',3:'Mar',4:'Apr',5:'May',6:'Jun', 7:'Jul',8:'Aug',9:'Sep',10:'Oct',11:'Nov',12:'Dec'})\n",
        "df['month'].unique()"
      ],
      "execution_count": 28,
      "outputs": [
        {
          "output_type": "execute_result",
          "data": {
            "text/plain": [
              "array(['Dec', 'Jan', 'Feb', 'Mar', 'Apr', 'May', 'Jun', 'Jul', 'Aug',\n",
              "       'Sep', 'Oct', 'Nov'], dtype=object)"
            ]
          },
          "metadata": {
            "tags": []
          },
          "execution_count": 28
        }
      ]
    },
    {
      "cell_type": "code",
      "metadata": {
        "id": "DTtFuz00PP5L",
        "colab": {
          "base_uri": "https://localhost:8080/",
          "height": 302
        },
        "outputId": "9b23edf4-02d3-4850-a262-859a86cc24ef"
      },
      "source": [
        "# Line graph of 911 calls count in individual months (Jan-Dec)\n",
        "sns.lineplot(data=df.groupby('month').count()['category'], marker='o')"
      ],
      "execution_count": 29,
      "outputs": [
        {
          "output_type": "execute_result",
          "data": {
            "text/plain": [
              "<matplotlib.axes._subplots.AxesSubplot at 0x7f63b4623f50>"
            ]
          },
          "metadata": {
            "tags": []
          },
          "execution_count": 29
        },
        {
          "output_type": "display_data",
          "data": {
            "image/png": "[encoded data removed]",
            "text/plain": [
              "<Figure size 432x288 with 1 Axes>"
            ]
          },
          "metadata": {
            "tags": [],
            "needs_background": "light"
          }
        }
      ]
    },
    {
      "cell_type": "code",
      "metadata": {
        "id": "_R30LYFi_Qx_",
        "colab": {
          "base_uri": "https://localhost:8080/",
          "height": 355
        },
        "outputId": "38de859f-ab50-45a2-b85f-085621ddc66e"
      },
      "source": [
        "# Bar graph of 911 calls count per month, sorted in decreasing order.\n",
        "sns.countplot(df['month'], order=df['month'].value_counts().index)\n",
        "\n",
        "# From Graph, 'January' received the highest number of calls, while least in 'September'. \n",
        "# Also, number of calls received on 'March', 'June' and 'July' are almost same. \n",
        "# Simillarly, in 'May' and 'December'."
      ],
      "execution_count": 30,
      "outputs": [
        {
          "output_type": "stream",
          "text": [
            "/usr/local/lib/python3.7/dist-packages/seaborn/_decorators.py:43: FutureWarning: Pass the following variable as a keyword arg: x. From version 0.12, the only valid positional argument will be `data`, and passing other arguments without an explicit keyword will result in an error or misinterpretation.\n",
            "  FutureWarning\n"
          ],
          "name": "stderr"
        },
        {
          "output_type": "execute_result",
          "data": {
            "text/plain": [
              "<matplotlib.axes._subplots.AxesSubplot at 0x7f63b4a3b590>"
            ]
          },
          "metadata": {
            "tags": []
          },
          "execution_count": 30
        },
        {
          "output_type": "display_data",
          "data": {
            "image/png": "[encoded data removed]",
            "text/plain": [
              "<Figure size 432x288 with 1 Axes>"
            ]
          },
          "metadata": {
            "tags": [],
            "needs_background": "light"
          }
        }
      ]
    },
    {
      "cell_type": "code",
      "metadata": {
        "id": "hlbXa6VK_0_y",
        "colab": {
          "base_uri": "https://localhost:8080/",
          "height": 355
        },
        "outputId": "63094286-f621-41fa-8975-dc63ecfd4304"
      },
      "source": [
        "# Bar graph of 911 calls count per month for each category, sorted in decreasing order.\n",
        "sns.countplot(df['month'], order=df['month'].value_counts().index, hue=df['category'])\n",
        "# This is same as above graph, where the total sum is splitted by categories\n",
        "\n",
        "# From graph below, Calls received related to 'Fire' in all months are approximately same,\n",
        "# On an average of around 8000 calls each month."
      ],
      "execution_count": 31,
      "outputs": [
        {
          "output_type": "stream",
          "text": [
            "/usr/local/lib/python3.7/dist-packages/seaborn/_decorators.py:43: FutureWarning: Pass the following variable as a keyword arg: x. From version 0.12, the only valid positional argument will be `data`, and passing other arguments without an explicit keyword will result in an error or misinterpretation.\n",
            "  FutureWarning\n"
          ],
          "name": "stderr"
        },
        {
          "output_type": "execute_result",
          "data": {
            "text/plain": [
              "<matplotlib.axes._subplots.AxesSubplot at 0x7f63b49e4c50>"
            ]
          },
          "metadata": {
            "tags": []
          },
          "execution_count": 31
        },
        {
          "output_type": "display_data",
          "data": {
            "image/png": "[encoded data removed]",
            "text/plain": [
              "<Figure size 432x288 with 1 Axes>"
            ]
          },
          "metadata": {
            "tags": [],
            "needs_background": "light"
          }
        }
      ]
    },
    {
      "cell_type": "code",
      "metadata": {
        "id": "czHDK0X48iyl",
        "colab": {
          "base_uri": "https://localhost:8080/"
        },
        "outputId": "219de0ad-097c-416d-fe70-7c98d843afcd"
      },
      "source": [
        "df['day'].unique()"
      ],
      "execution_count": 32,
      "outputs": [
        {
          "output_type": "execute_result",
          "data": {
            "text/plain": [
              "array([3, 4, 5, 6, 0, 1, 2])"
            ]
          },
          "metadata": {
            "tags": []
          },
          "execution_count": 32
        }
      ]
    },
    {
      "cell_type": "code",
      "metadata": {
        "id": "OrPVv2Ta8XiB",
        "colab": {
          "base_uri": "https://localhost:8080/"
        },
        "outputId": "d54a7a11-f526-4722-cc5b-3ddeac6d497c"
      },
      "source": [
        "# Mapping Day of the week to numbers\n",
        "df['day'] = df['day'].map({0:'Mon',1:'Tue',2:'Wed',3:'Thu',4:'Fri',5:'Sat',6:'Sun'})\n",
        "df['day'].unique()"
      ],
      "execution_count": 33,
      "outputs": [
        {
          "output_type": "execute_result",
          "data": {
            "text/plain": [
              "array(['Thu', 'Fri', 'Sat', 'Sun', 'Mon', 'Tue', 'Wed'], dtype=object)"
            ]
          },
          "metadata": {
            "tags": []
          },
          "execution_count": 33
        }
      ]
    },
    {
      "cell_type": "code",
      "metadata": {
        "id": "wXV12n3ELpjQ",
        "colab": {
          "base_uri": "https://localhost:8080/",
          "height": 285
        },
        "outputId": "cd862a1f-007d-40f2-d132-142a52a8ff72"
      },
      "source": [
        "# Line graph of overall 911 calls count for each day of the week in Ascending Order.\n",
        "sns.lineplot(data=df['day'].value_counts()[::-1], marker='o')\n",
        "\n",
        "\n",
        "# From Graph it is clearly understood that, 911 calls are least received during weekends, specially on Sundays \n",
        "# It significantly increases on Monday (mostly Traffic from Bar graph)\n",
        "# and gradually increases on other days till it hits the peak on Fridays (~ 1.03 million calls)"
      ],
      "execution_count": 34,
      "outputs": [
        {
          "output_type": "execute_result",
          "data": {
            "text/plain": [
              "<matplotlib.axes._subplots.AxesSubplot at 0x7f63b4928bd0>"
            ]
          },
          "metadata": {
            "tags": []
          },
          "execution_count": 34
        },
        {
          "output_type": "display_data",
          "data": {
            "image/png": "[encoded data removed]",
            "text/plain": [
              "<Figure size 432x288 with 1 Axes>"
            ]
          },
          "metadata": {
            "tags": [],
            "needs_background": "light"
          }
        }
      ]
    },
    {
      "cell_type": "code",
      "metadata": {
        "id": "BeprgbTU8_Nw",
        "colab": {
          "base_uri": "https://localhost:8080/",
          "height": 355
        },
        "outputId": "94fc5b92-5e54-4870-c949-21349f789566"
      },
      "source": [
        "# Bar graph of overall 911 calls count for each day of the week in Ascending Order.\n",
        "sns.countplot(df['day'], order=df['day'].value_counts()[::-1].index, hue=df['category'])"
      ],
      "execution_count": 35,
      "outputs": [
        {
          "output_type": "stream",
          "text": [
            "/usr/local/lib/python3.7/dist-packages/seaborn/_decorators.py:43: FutureWarning: Pass the following variable as a keyword arg: x. From version 0.12, the only valid positional argument will be `data`, and passing other arguments without an explicit keyword will result in an error or misinterpretation.\n",
            "  FutureWarning\n"
          ],
          "name": "stderr"
        },
        {
          "output_type": "execute_result",
          "data": {
            "text/plain": [
              "<matplotlib.axes._subplots.AxesSubplot at 0x7f63b4894b50>"
            ]
          },
          "metadata": {
            "tags": []
          },
          "execution_count": 35
        },
        {
          "output_type": "display_data",
          "data": {
            "image/png": "[encoded data removed]",
            "text/plain": [
              "<Figure size 432x288 with 1 Axes>"
            ]
          },
          "metadata": {
            "tags": [],
            "needs_background": "light"
          }
        }
      ]
    },
    {
      "cell_type": "code",
      "metadata": {
        "id": "JptG79CS9AKg",
        "colab": {
          "base_uri": "https://localhost:8080/"
        },
        "outputId": "739adf4a-9399-4819-dd32-78c3370a4ad3"
      },
      "source": [
        "df[df['month']=='Apr']['date']"
      ],
      "execution_count": 36,
      "outputs": [
        {
          "output_type": "execute_result",
          "data": {
            "text/plain": [
              "43467     2016-04-01\n",
              "43468     2016-04-01\n",
              "43469     2016-04-01\n",
              "43470     2016-04-01\n",
              "43471     2016-04-01\n",
              "             ...    \n",
              "632673    2020-04-30\n",
              "632674    2020-04-30\n",
              "632675    2020-04-30\n",
              "632676    2020-04-30\n",
              "632677    2020-04-30\n",
              "Name: date, Length: 53671, dtype: object"
            ]
          },
          "metadata": {
            "tags": []
          },
          "execution_count": 36
        }
      ]
    },
    {
      "cell_type": "code",
      "metadata": {
        "id": "W-3tHQIHHUSg",
        "colab": {
          "base_uri": "https://localhost:8080/",
          "height": 717
        },
        "outputId": "6e75c04e-ac14-4686-988f-4ed4d38af846"
      },
      "source": [
        "# Month and Year Matrix\n",
        "\n",
        "year_month = df.groupby(['month', 'year'], dropna=True).count()['category'].unstack()\n",
        "display(year_month)\n",
        "sns.heatmap(year_month, cmap='coolwarm', lw=0.25)\n",
        "\n",
        "\n",
        "# As stated before, 2015 and 2020 doesn't have complete data, hence null values.\n",
        "# For better visualization Heatmap is used.\n",
        "\n",
        "# From Heatmap, \n",
        "# 'March 2018' recorded the highest 911 calls of 14923 as per our dataset.\n",
        "# and 'April 2020' recorded the least calls of 8243 (excluding 2015 as it has only 10th Dec) \n",
        "\n"
      ],
      "execution_count": 37,
      "outputs": [
        {
          "output_type": "display_data",
          "data": {
            "text/html": [
              "<div>\n",
              "<style scoped>\n",
              "    .dataframe tbody tr th:only-of-type {\n",
              "        vertical-align: middle;\n",
              "    }\n",
              "\n",
              "    .dataframe tbody tr th {\n",
              "        vertical-align: top;\n",
              "    }\n",
              "\n",
              "    .dataframe thead th {\n",
              "        text-align: right;\n",
              "    }\n",
              "</style>\n",
              "<table border=\"1\" class=\"dataframe\">\n",
              "  <thead>\n",
              "    <tr style=\"text-align: right;\">\n",
              "      <th>year</th>\n",
              "      <th>2015</th>\n",
              "      <th>2016</th>\n",
              "      <th>2017</th>\n",
              "      <th>2018</th>\n",
              "      <th>2019</th>\n",
              "      <th>2020</th>\n",
              "    </tr>\n",
              "    <tr>\n",
              "      <th>month</th>\n",
              "      <th></th>\n",
              "      <th></th>\n",
              "      <th></th>\n",
              "      <th></th>\n",
              "      <th></th>\n",
              "      <th></th>\n",
              "    </tr>\n",
              "  </thead>\n",
              "  <tbody>\n",
              "    <tr>\n",
              "      <th>Apr</th>\n",
              "      <td>NaN</td>\n",
              "      <td>11287.0</td>\n",
              "      <td>11056.0</td>\n",
              "      <td>11240.0</td>\n",
              "      <td>11845.0</td>\n",
              "      <td>8243.0</td>\n",
              "    </tr>\n",
              "    <tr>\n",
              "      <th>Aug</th>\n",
              "      <td>NaN</td>\n",
              "      <td>11904.0</td>\n",
              "      <td>11753.0</td>\n",
              "      <td>12315.0</td>\n",
              "      <td>12387.0</td>\n",
              "      <td>NaN</td>\n",
              "    </tr>\n",
              "    <tr>\n",
              "      <th>Dec</th>\n",
              "      <td>7916.0</td>\n",
              "      <td>12162.0</td>\n",
              "      <td>12941.0</td>\n",
              "      <td>12144.0</td>\n",
              "      <td>12529.0</td>\n",
              "      <td>NaN</td>\n",
              "    </tr>\n",
              "    <tr>\n",
              "      <th>Feb</th>\n",
              "      <td>NaN</td>\n",
              "      <td>11396.0</td>\n",
              "      <td>10267.0</td>\n",
              "      <td>11165.0</td>\n",
              "      <td>11556.0</td>\n",
              "      <td>11043.0</td>\n",
              "    </tr>\n",
              "    <tr>\n",
              "      <th>Jan</th>\n",
              "      <td>NaN</td>\n",
              "      <td>13096.0</td>\n",
              "      <td>11605.0</td>\n",
              "      <td>13123.0</td>\n",
              "      <td>12304.0</td>\n",
              "      <td>12208.0</td>\n",
              "    </tr>\n",
              "    <tr>\n",
              "      <th>Jul</th>\n",
              "      <td>NaN</td>\n",
              "      <td>12088.0</td>\n",
              "      <td>11768.0</td>\n",
              "      <td>12549.0</td>\n",
              "      <td>13166.0</td>\n",
              "      <td>10261.0</td>\n",
              "    </tr>\n",
              "    <tr>\n",
              "      <th>Jun</th>\n",
              "      <td>NaN</td>\n",
              "      <td>11732.0</td>\n",
              "      <td>12333.0</td>\n",
              "      <td>12106.0</td>\n",
              "      <td>12322.0</td>\n",
              "      <td>11541.0</td>\n",
              "    </tr>\n",
              "    <tr>\n",
              "      <th>Mar</th>\n",
              "      <td>NaN</td>\n",
              "      <td>11059.0</td>\n",
              "      <td>11684.0</td>\n",
              "      <td>14923.0</td>\n",
              "      <td>12441.0</td>\n",
              "      <td>9920.0</td>\n",
              "    </tr>\n",
              "    <tr>\n",
              "      <th>May</th>\n",
              "      <td>NaN</td>\n",
              "      <td>11374.0</td>\n",
              "      <td>11719.0</td>\n",
              "      <td>12551.0</td>\n",
              "      <td>12823.0</td>\n",
              "      <td>9042.0</td>\n",
              "    </tr>\n",
              "    <tr>\n",
              "      <th>Nov</th>\n",
              "      <td>NaN</td>\n",
              "      <td>12091.0</td>\n",
              "      <td>11548.0</td>\n",
              "      <td>14097.0</td>\n",
              "      <td>12446.0</td>\n",
              "      <td>NaN</td>\n",
              "    </tr>\n",
              "    <tr>\n",
              "      <th>Oct</th>\n",
              "      <td>NaN</td>\n",
              "      <td>12502.0</td>\n",
              "      <td>12337.0</td>\n",
              "      <td>12976.0</td>\n",
              "      <td>13425.0</td>\n",
              "      <td>NaN</td>\n",
              "    </tr>\n",
              "    <tr>\n",
              "      <th>Sep</th>\n",
              "      <td>NaN</td>\n",
              "      <td>11669.0</td>\n",
              "      <td>11332.0</td>\n",
              "      <td>12338.0</td>\n",
              "      <td>11874.0</td>\n",
              "      <td>NaN</td>\n",
              "    </tr>\n",
              "  </tbody>\n",
              "</table>\n",
              "</div>"
            ],
            "text/plain": [
              "year     2015     2016     2017     2018     2019     2020\n",
              "month                                                     \n",
              "Apr       NaN  11287.0  11056.0  11240.0  11845.0   8243.0\n",
              "Aug       NaN  11904.0  11753.0  12315.0  12387.0      NaN\n",
              "Dec    7916.0  12162.0  12941.0  12144.0  12529.0      NaN\n",
              "Feb       NaN  11396.0  10267.0  11165.0  11556.0  11043.0\n",
              "Jan       NaN  13096.0  11605.0  13123.0  12304.0  12208.0\n",
              "Jul       NaN  12088.0  11768.0  12549.0  13166.0  10261.0\n",
              "Jun       NaN  11732.0  12333.0  12106.0  12322.0  11541.0\n",
              "Mar       NaN  11059.0  11684.0  14923.0  12441.0   9920.0\n",
              "May       NaN  11374.0  11719.0  12551.0  12823.0   9042.0\n",
              "Nov       NaN  12091.0  11548.0  14097.0  12446.0      NaN\n",
              "Oct       NaN  12502.0  12337.0  12976.0  13425.0      NaN\n",
              "Sep       NaN  11669.0  11332.0  12338.0  11874.0      NaN"
            ]
          },
          "metadata": {
            "tags": []
          }
        },
        {
          "output_type": "execute_result",
          "data": {
            "text/plain": [
              "<matplotlib.axes._subplots.AxesSubplot at 0x7f63b4778950>"
            ]
          },
          "metadata": {
            "tags": []
          },
          "execution_count": 37
        },
        {
          "output_type": "display_data",
          "data": {
            "image/png": "[encoded data removed]",
            "text/plain": [
              "<Figure size 432x288 with 2 Axes>"
            ]
          },
          "metadata": {
            "tags": [],
            "needs_background": "light"
          }
        }
      ]
    },
    {
      "cell_type": "code",
      "metadata": {
        "id": "p6w3RkOP-UHe",
        "colab": {
          "base_uri": "https://localhost:8080/",
          "height": 284
        },
        "outputId": "e8625112-ba4c-469e-a534-1604e210f3c0"
      },
      "source": [
        "# Day of the Week and Month Matrix\n",
        "\n",
        "month_day = df.groupby(['day', 'month']).count()['category'].unstack()\n",
        "display(month_day)"
      ],
      "execution_count": 38,
      "outputs": [
        {
          "output_type": "display_data",
          "data": {
            "text/html": [
              "<div>\n",
              "<style scoped>\n",
              "    .dataframe tbody tr th:only-of-type {\n",
              "        vertical-align: middle;\n",
              "    }\n",
              "\n",
              "    .dataframe tbody tr th {\n",
              "        vertical-align: top;\n",
              "    }\n",
              "\n",
              "    .dataframe thead th {\n",
              "        text-align: right;\n",
              "    }\n",
              "</style>\n",
              "<table border=\"1\" class=\"dataframe\">\n",
              "  <thead>\n",
              "    <tr style=\"text-align: right;\">\n",
              "      <th>month</th>\n",
              "      <th>Apr</th>\n",
              "      <th>Aug</th>\n",
              "      <th>Dec</th>\n",
              "      <th>Feb</th>\n",
              "      <th>Jan</th>\n",
              "      <th>Jul</th>\n",
              "      <th>Jun</th>\n",
              "      <th>Mar</th>\n",
              "      <th>May</th>\n",
              "      <th>Nov</th>\n",
              "      <th>Oct</th>\n",
              "      <th>Sep</th>\n",
              "    </tr>\n",
              "    <tr>\n",
              "      <th>day</th>\n",
              "      <th></th>\n",
              "      <th></th>\n",
              "      <th></th>\n",
              "      <th></th>\n",
              "      <th></th>\n",
              "      <th></th>\n",
              "      <th></th>\n",
              "      <th></th>\n",
              "      <th></th>\n",
              "      <th></th>\n",
              "      <th></th>\n",
              "      <th></th>\n",
              "    </tr>\n",
              "  </thead>\n",
              "  <tbody>\n",
              "    <tr>\n",
              "      <th>Fri</th>\n",
              "      <td>7997</td>\n",
              "      <td>7336</td>\n",
              "      <td>9305</td>\n",
              "      <td>8255</td>\n",
              "      <td>9309</td>\n",
              "      <td>8681</td>\n",
              "      <td>9207</td>\n",
              "      <td>10941</td>\n",
              "      <td>8904</td>\n",
              "      <td>8379</td>\n",
              "      <td>6934</td>\n",
              "      <td>7694</td>\n",
              "    </tr>\n",
              "    <tr>\n",
              "      <th>Mon</th>\n",
              "      <td>8410</td>\n",
              "      <td>6854</td>\n",
              "      <td>8492</td>\n",
              "      <td>8747</td>\n",
              "      <td>8896</td>\n",
              "      <td>9499</td>\n",
              "      <td>8511</td>\n",
              "      <td>8060</td>\n",
              "      <td>7881</td>\n",
              "      <td>6722</td>\n",
              "      <td>8075</td>\n",
              "      <td>6598</td>\n",
              "    </tr>\n",
              "    <tr>\n",
              "      <th>Sat</th>\n",
              "      <td>7514</td>\n",
              "      <td>6111</td>\n",
              "      <td>8592</td>\n",
              "      <td>7593</td>\n",
              "      <td>8475</td>\n",
              "      <td>7748</td>\n",
              "      <td>8198</td>\n",
              "      <td>8050</td>\n",
              "      <td>7223</td>\n",
              "      <td>6773</td>\n",
              "      <td>6609</td>\n",
              "      <td>6566</td>\n",
              "    </tr>\n",
              "    <tr>\n",
              "      <th>Sun</th>\n",
              "      <td>6865</td>\n",
              "      <td>5275</td>\n",
              "      <td>7165</td>\n",
              "      <td>6452</td>\n",
              "      <td>7478</td>\n",
              "      <td>7859</td>\n",
              "      <td>6837</td>\n",
              "      <td>6766</td>\n",
              "      <td>6694</td>\n",
              "      <td>5196</td>\n",
              "      <td>6316</td>\n",
              "      <td>5956</td>\n",
              "    </tr>\n",
              "    <tr>\n",
              "      <th>Thu</th>\n",
              "      <td>7722</td>\n",
              "      <td>7508</td>\n",
              "      <td>8151</td>\n",
              "      <td>7997</td>\n",
              "      <td>9055</td>\n",
              "      <td>8378</td>\n",
              "      <td>9489</td>\n",
              "      <td>8849</td>\n",
              "      <td>8740</td>\n",
              "      <td>8358</td>\n",
              "      <td>7482</td>\n",
              "      <td>6954</td>\n",
              "    </tr>\n",
              "    <tr>\n",
              "      <th>Tue</th>\n",
              "      <td>7561</td>\n",
              "      <td>7291</td>\n",
              "      <td>8305</td>\n",
              "      <td>8087</td>\n",
              "      <td>9714</td>\n",
              "      <td>9086</td>\n",
              "      <td>8349</td>\n",
              "      <td>8372</td>\n",
              "      <td>9026</td>\n",
              "      <td>7344</td>\n",
              "      <td>7948</td>\n",
              "      <td>6601</td>\n",
              "    </tr>\n",
              "    <tr>\n",
              "      <th>Wed</th>\n",
              "      <td>7602</td>\n",
              "      <td>7984</td>\n",
              "      <td>7682</td>\n",
              "      <td>8296</td>\n",
              "      <td>9409</td>\n",
              "      <td>8581</td>\n",
              "      <td>9443</td>\n",
              "      <td>8989</td>\n",
              "      <td>9041</td>\n",
              "      <td>7410</td>\n",
              "      <td>7876</td>\n",
              "      <td>6844</td>\n",
              "    </tr>\n",
              "  </tbody>\n",
              "</table>\n",
              "</div>"
            ],
            "text/plain": [
              "month   Apr   Aug   Dec   Feb   Jan   Jul   Jun    Mar   May   Nov   Oct   Sep\n",
              "day                                                                           \n",
              "Fri    7997  7336  9305  8255  9309  8681  9207  10941  8904  8379  6934  7694\n",
              "Mon    8410  6854  8492  8747  8896  9499  8511   8060  7881  6722  8075  6598\n",
              "Sat    7514  6111  8592  7593  8475  7748  8198   8050  7223  6773  6609  6566\n",
              "Sun    6865  5275  7165  6452  7478  7859  6837   6766  6694  5196  6316  5956\n",
              "Thu    7722  7508  8151  7997  9055  8378  9489   8849  8740  8358  7482  6954\n",
              "Tue    7561  7291  8305  8087  9714  9086  8349   8372  9026  7344  7948  6601\n",
              "Wed    7602  7984  7682  8296  9409  8581  9443   8989  9041  7410  7876  6844"
            ]
          },
          "metadata": {
            "tags": []
          }
        }
      ]
    },
    {
      "cell_type": "code",
      "metadata": {
        "id": "T_wOf0v7KejV",
        "colab": {
          "base_uri": "https://localhost:8080/",
          "height": 302
        },
        "outputId": "fd888213-75f4-4b5e-b743-7caab4b398be"
      },
      "source": [
        "# Heatmap of the above matrix\n",
        "sns.heatmap(month_day, cmap='coolwarm', lw=0.25)\n",
        "\n",
        "# From Heatmap\n",
        "# The highest number of calls documented on a 'Friday', in 'March' with 10941 calls\n",
        "# The Least number of calls documented on a 'Sunday' in 'November' with 5196 calls  "
      ],
      "execution_count": 39,
      "outputs": [
        {
          "output_type": "execute_result",
          "data": {
            "text/plain": [
              "<matplotlib.axes._subplots.AxesSubplot at 0x7f63b4639a90>"
            ]
          },
          "metadata": {
            "tags": []
          },
          "execution_count": 39
        },
        {
          "output_type": "display_data",
          "data": {
            "image/png": "[encoded data removed]",
            "text/plain": [
              "<Figure size 432x288 with 2 Axes>"
            ]
          },
          "metadata": {
            "tags": [],
            "needs_background": "light"
          }
        }
      ]
    },
    {
      "cell_type": "code",
      "metadata": {
        "id": "i9I2pKZlEhMG",
        "colab": {
          "base_uri": "https://localhost:8080/",
          "height": 747
        },
        "outputId": "a5ce0947-2a9c-488e-c8b0-3118baa55e4e"
      },
      "source": [
        "# Cluster Map for more detailed relationship between months and between days of week.\n",
        "# Scaled the values between 0 to 1 for more contrast\n",
        "\n",
        "sns.clustermap(month_day, cmap='coolwarm', standard_scale=1)"
      ],
      "execution_count": 40,
      "outputs": [
        {
          "output_type": "execute_result",
          "data": {
            "text/plain": [
              "<seaborn.matrix.ClusterGrid at 0x7f63b4542850>"
            ]
          },
          "metadata": {
            "tags": []
          },
          "execution_count": 40
        },
        {
          "output_type": "display_data",
          "data": {
            "image/png": "[encoded data removed]",
            "text/plain": [
              "<Figure size 720x720 with 4 Axes>"
            ]
          },
          "metadata": {
            "tags": [],
            "needs_background": "light"
          }
        }
      ]
    },
    {
      "cell_type": "code",
      "metadata": {
        "id": "UgwHks3xIa9l",
        "colab": {
          "base_uri": "https://localhost:8080/",
          "height": 304
        },
        "outputId": "be657879-bca5-4c26-a57a-76b8fffecc50"
      },
      "source": [
        "# Day of the Week and Hour Matrix\n",
        "day_hour = df.groupby(['day', 'hour']).count()['category'].unstack()\n",
        "display(day_hour)"
      ],
      "execution_count": 41,
      "outputs": [
        {
          "output_type": "display_data",
          "data": {
            "text/html": [
              "<div>\n",
              "<style scoped>\n",
              "    .dataframe tbody tr th:only-of-type {\n",
              "        vertical-align: middle;\n",
              "    }\n",
              "\n",
              "    .dataframe tbody tr th {\n",
              "        vertical-align: top;\n",
              "    }\n",
              "\n",
              "    .dataframe thead th {\n",
              "        text-align: right;\n",
              "    }\n",
              "</style>\n",
              "<table border=\"1\" class=\"dataframe\">\n",
              "  <thead>\n",
              "    <tr style=\"text-align: right;\">\n",
              "      <th>hour</th>\n",
              "      <th>0</th>\n",
              "      <th>1</th>\n",
              "      <th>2</th>\n",
              "      <th>3</th>\n",
              "      <th>4</th>\n",
              "      <th>5</th>\n",
              "      <th>6</th>\n",
              "      <th>7</th>\n",
              "      <th>8</th>\n",
              "      <th>9</th>\n",
              "      <th>10</th>\n",
              "      <th>11</th>\n",
              "      <th>12</th>\n",
              "      <th>13</th>\n",
              "      <th>14</th>\n",
              "      <th>15</th>\n",
              "      <th>16</th>\n",
              "      <th>17</th>\n",
              "      <th>18</th>\n",
              "      <th>19</th>\n",
              "      <th>20</th>\n",
              "      <th>21</th>\n",
              "      <th>22</th>\n",
              "      <th>23</th>\n",
              "    </tr>\n",
              "    <tr>\n",
              "      <th>day</th>\n",
              "      <th></th>\n",
              "      <th></th>\n",
              "      <th></th>\n",
              "      <th></th>\n",
              "      <th></th>\n",
              "      <th></th>\n",
              "      <th></th>\n",
              "      <th></th>\n",
              "      <th></th>\n",
              "      <th></th>\n",
              "      <th></th>\n",
              "      <th></th>\n",
              "      <th></th>\n",
              "      <th></th>\n",
              "      <th></th>\n",
              "      <th></th>\n",
              "      <th></th>\n",
              "      <th></th>\n",
              "      <th></th>\n",
              "      <th></th>\n",
              "      <th></th>\n",
              "      <th></th>\n",
              "      <th></th>\n",
              "      <th></th>\n",
              "    </tr>\n",
              "  </thead>\n",
              "  <tbody>\n",
              "    <tr>\n",
              "      <th>Fri</th>\n",
              "      <td>1983</td>\n",
              "      <td>1635</td>\n",
              "      <td>1449</td>\n",
              "      <td>1296</td>\n",
              "      <td>1339</td>\n",
              "      <td>1639</td>\n",
              "      <td>2670</td>\n",
              "      <td>4143</td>\n",
              "      <td>5018</td>\n",
              "      <td>5288</td>\n",
              "      <td>5584</td>\n",
              "      <td>5843</td>\n",
              "      <td>5994</td>\n",
              "      <td>6181</td>\n",
              "      <td>6394</td>\n",
              "      <td>7040</td>\n",
              "      <td>7065</td>\n",
              "      <td>7113</td>\n",
              "      <td>5668</td>\n",
              "      <td>5056</td>\n",
              "      <td>4375</td>\n",
              "      <td>3913</td>\n",
              "      <td>3422</td>\n",
              "      <td>2834</td>\n",
              "    </tr>\n",
              "    <tr>\n",
              "      <th>Mon</th>\n",
              "      <td>1894</td>\n",
              "      <td>1571</td>\n",
              "      <td>1368</td>\n",
              "      <td>1272</td>\n",
              "      <td>1336</td>\n",
              "      <td>1844</td>\n",
              "      <td>2675</td>\n",
              "      <td>4430</td>\n",
              "      <td>5504</td>\n",
              "      <td>5724</td>\n",
              "      <td>5458</td>\n",
              "      <td>5632</td>\n",
              "      <td>5881</td>\n",
              "      <td>5664</td>\n",
              "      <td>5713</td>\n",
              "      <td>6289</td>\n",
              "      <td>6346</td>\n",
              "      <td>6408</td>\n",
              "      <td>5441</td>\n",
              "      <td>4488</td>\n",
              "      <td>3823</td>\n",
              "      <td>3254</td>\n",
              "      <td>2658</td>\n",
              "      <td>2072</td>\n",
              "    </tr>\n",
              "    <tr>\n",
              "      <th>Sat</th>\n",
              "      <td>2447</td>\n",
              "      <td>2059</td>\n",
              "      <td>1883</td>\n",
              "      <td>1592</td>\n",
              "      <td>1451</td>\n",
              "      <td>1580</td>\n",
              "      <td>1880</td>\n",
              "      <td>2489</td>\n",
              "      <td>3457</td>\n",
              "      <td>4315</td>\n",
              "      <td>4944</td>\n",
              "      <td>5450</td>\n",
              "      <td>5555</td>\n",
              "      <td>5378</td>\n",
              "      <td>5421</td>\n",
              "      <td>5181</td>\n",
              "      <td>5211</td>\n",
              "      <td>5213</td>\n",
              "      <td>4980</td>\n",
              "      <td>4753</td>\n",
              "      <td>4127</td>\n",
              "      <td>3895</td>\n",
              "      <td>3226</td>\n",
              "      <td>2965</td>\n",
              "    </tr>\n",
              "    <tr>\n",
              "      <th>Sun</th>\n",
              "      <td>2424</td>\n",
              "      <td>2135</td>\n",
              "      <td>1946</td>\n",
              "      <td>1614</td>\n",
              "      <td>1471</td>\n",
              "      <td>1488</td>\n",
              "      <td>1726</td>\n",
              "      <td>2408</td>\n",
              "      <td>3001</td>\n",
              "      <td>3728</td>\n",
              "      <td>4262</td>\n",
              "      <td>4438</td>\n",
              "      <td>4882</td>\n",
              "      <td>4654</td>\n",
              "      <td>4744</td>\n",
              "      <td>4475</td>\n",
              "      <td>4560</td>\n",
              "      <td>4505</td>\n",
              "      <td>4402</td>\n",
              "      <td>4135</td>\n",
              "      <td>3748</td>\n",
              "      <td>3161</td>\n",
              "      <td>2629</td>\n",
              "      <td>2323</td>\n",
              "    </tr>\n",
              "    <tr>\n",
              "      <th>Thu</th>\n",
              "      <td>1731</td>\n",
              "      <td>1408</td>\n",
              "      <td>1426</td>\n",
              "      <td>1236</td>\n",
              "      <td>1293</td>\n",
              "      <td>1775</td>\n",
              "      <td>2816</td>\n",
              "      <td>4432</td>\n",
              "      <td>5297</td>\n",
              "      <td>5412</td>\n",
              "      <td>5464</td>\n",
              "      <td>5492</td>\n",
              "      <td>5898</td>\n",
              "      <td>6173</td>\n",
              "      <td>6079</td>\n",
              "      <td>6493</td>\n",
              "      <td>6375</td>\n",
              "      <td>6935</td>\n",
              "      <td>5512</td>\n",
              "      <td>4703</td>\n",
              "      <td>4045</td>\n",
              "      <td>3490</td>\n",
              "      <td>2844</td>\n",
              "      <td>2354</td>\n",
              "    </tr>\n",
              "    <tr>\n",
              "      <th>Tue</th>\n",
              "      <td>1720</td>\n",
              "      <td>1459</td>\n",
              "      <td>1322</td>\n",
              "      <td>1213</td>\n",
              "      <td>1247</td>\n",
              "      <td>1741</td>\n",
              "      <td>2784</td>\n",
              "      <td>4425</td>\n",
              "      <td>5634</td>\n",
              "      <td>5566</td>\n",
              "      <td>5498</td>\n",
              "      <td>5582</td>\n",
              "      <td>5795</td>\n",
              "      <td>5794</td>\n",
              "      <td>5926</td>\n",
              "      <td>6252</td>\n",
              "      <td>6495</td>\n",
              "      <td>6883</td>\n",
              "      <td>5628</td>\n",
              "      <td>4621</td>\n",
              "      <td>3845</td>\n",
              "      <td>3409</td>\n",
              "      <td>2708</td>\n",
              "      <td>2137</td>\n",
              "    </tr>\n",
              "    <tr>\n",
              "      <th>Wed</th>\n",
              "      <td>1664</td>\n",
              "      <td>1484</td>\n",
              "      <td>1259</td>\n",
              "      <td>1265</td>\n",
              "      <td>1128</td>\n",
              "      <td>1609</td>\n",
              "      <td>2668</td>\n",
              "      <td>4644</td>\n",
              "      <td>5469</td>\n",
              "      <td>5444</td>\n",
              "      <td>5367</td>\n",
              "      <td>5639</td>\n",
              "      <td>6092</td>\n",
              "      <td>5953</td>\n",
              "      <td>6069</td>\n",
              "      <td>6533</td>\n",
              "      <td>6745</td>\n",
              "      <td>7062</td>\n",
              "      <td>5691</td>\n",
              "      <td>4686</td>\n",
              "      <td>4116</td>\n",
              "      <td>3537</td>\n",
              "      <td>2826</td>\n",
              "      <td>2207</td>\n",
              "    </tr>\n",
              "  </tbody>\n",
              "</table>\n",
              "</div>"
            ],
            "text/plain": [
              "hour    0     1     2     3     4     5   ...    18    19    20    21    22    23\n",
              "day                                       ...                                    \n",
              "Fri   1983  1635  1449  1296  1339  1639  ...  5668  5056  4375  3913  3422  2834\n",
              "Mon   1894  1571  1368  1272  1336  1844  ...  5441  4488  3823  3254  2658  2072\n",
              "Sat   2447  2059  1883  1592  1451  1580  ...  4980  4753  4127  3895  3226  2965\n",
              "Sun   2424  2135  1946  1614  1471  1488  ...  4402  4135  3748  3161  2629  2323\n",
              "Thu   1731  1408  1426  1236  1293  1775  ...  5512  4703  4045  3490  2844  2354\n",
              "Tue   1720  1459  1322  1213  1247  1741  ...  5628  4621  3845  3409  2708  2137\n",
              "Wed   1664  1484  1259  1265  1128  1609  ...  5691  4686  4116  3537  2826  2207\n",
              "\n",
              "[7 rows x 24 columns]"
            ]
          },
          "metadata": {
            "tags": []
          }
        }
      ]
    },
    {
      "cell_type": "code",
      "metadata": {
        "id": "OH7GfpP7aA1t",
        "colab": {
          "base_uri": "https://localhost:8080/"
        },
        "outputId": "86287948-e2e9-4446-ed43-dfc0275df22c"
      },
      "source": [
        "# Total calls on given hour per Day of the Week\n",
        "day_hour.sum()"
      ],
      "execution_count": 42,
      "outputs": [
        {
          "output_type": "execute_result",
          "data": {
            "text/plain": [
              "hour\n",
              "0     13863\n",
              "1     11751\n",
              "2     10653\n",
              "3      9488\n",
              "4      9265\n",
              "5     11676\n",
              "6     17219\n",
              "7     26971\n",
              "8     33380\n",
              "9     35477\n",
              "10    36577\n",
              "11    38076\n",
              "12    40097\n",
              "13    39797\n",
              "14    40346\n",
              "15    42263\n",
              "16    42797\n",
              "17    44119\n",
              "18    37322\n",
              "19    32442\n",
              "20    28079\n",
              "21    24659\n",
              "22    20313\n",
              "23    16892\n",
              "dtype: int64"
            ]
          },
          "metadata": {
            "tags": []
          },
          "execution_count": 42
        }
      ]
    },
    {
      "cell_type": "code",
      "metadata": {
        "id": "5Dc9hLKdIa9m",
        "colab": {
          "base_uri": "https://localhost:8080/",
          "height": 302
        },
        "outputId": "f978c807-c8d8-4f08-f31e-83917be6d9b6"
      },
      "source": [
        "sns.heatmap(day_hour, cmap='coolwarm', lw=0.25)\n",
        "\n",
        "# From heatmap,\n",
        "# 911 calls start rising significantly from 7 a.m. (except Weekends), till 8 p.m. (hour 20)\n",
        "# Most calls are observed at Hour 17 and Highest recorded at Hour 17, on Friday of 7113 calls\n",
        "# Least calls are observed at Hour 4 and lowest recorded at Hour 4, on Wednesday of 1128 calls"
      ],
      "execution_count": 43,
      "outputs": [
        {
          "output_type": "execute_result",
          "data": {
            "text/plain": [
              "<matplotlib.axes._subplots.AxesSubplot at 0x7f63b437b310>"
            ]
          },
          "metadata": {
            "tags": []
          },
          "execution_count": 43
        },
        {
          "output_type": "display_data",
          "data": {
            "image/png": "[encoded data removed]",
            "text/plain": [
              "<Figure size 432x288 with 2 Axes>"
            ]
          },
          "metadata": {
            "tags": [],
            "needs_background": "light"
          }
        }
      ]
    },
    {
      "cell_type": "markdown",
      "metadata": {
        "id": "mzzeKtgqQpOD"
      },
      "source": [
        "**To summarize,**\n",
        "\n",
        "A total of 663522 911 calls are observed between *10-Dec-2015* and *29-Jul-2020*.\n",
        "\n",
        "\n",
        "\n",
        "1. **Individual Feature Analysis**\n",
        "\n",
        "\n",
        "\n",
        "|  | Most Calls Received | Least Calls Received |\n",
        "| ---------------: | :---------- | :----------- |\n",
        "| **Call Category** | EMS | Fire |\n",
        "| **Call Purpose** | Vehicle Accident | - |\n",
        "| **Township** | Lower Merion | Lehigh County |\n",
        "| **Year** | 2018 | 2017 (excluding partial years)|\n",
        "| **Month** | January | September|\n",
        "| **Day of Week**| Friday | Sunday  |\n",
        "| **Hour of Day** | 17 (5 p.m)| 4 a.m |\n",
        "\n",
        "\n",
        "\n",
        "2. **Combined Analysis**\n",
        "\n",
        "| Particular | Highest on | Least on |\n",
        "| ---------------: | :---------- | :----------- |\n",
        "| **Month in Years** | March 2018 (14923) | April 2020 (8243) |\n",
        "| **Day of Week in Months** | Fridays in March (10941) | Sundays in November (5196) |\n",
        "| **Hour in Days** | 5 p.m on Fridays (7113)| 4 a.m on Wednesdays (1128) |\n"
      ]
    }
  ]
}